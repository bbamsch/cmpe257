{
 "cells": [
  {
   "cell_type": "code",
   "execution_count": 3,
   "metadata": {},
   "outputs": [
    {
     "name": "stdout",
     "output_type": "stream",
     "text": [
      "Num Vocab: 50\n"
     ]
    }
   ],
   "source": [
    "######################\n",
    "# Process MIDI Files #\n",
    "######################\n",
    "\n",
    "from music21 import converter\n",
    "from music21 import instrument\n",
    "from music21 import chord\n",
    "from music21 import note\n",
    "import glob\n",
    "import json\n",
    "import os\n",
    "import numpy\n",
    "from keras.utils import np_utils\n",
    "\n",
    "WEIGHTS_FILE = \"S120-L256-L256-weights-improvements-059-2.5130.hdf5\"\n",
    "\n",
    "# VARS\n",
    "DATA_GLOB = \"data/pokemon-single/PkmRB/*.mid\"\n",
    "MODEL_DIR = \"model/pokemon-single/PkmRB/S120-L256-L256/\"\n",
    "NOTES_FILE = \"%s/%s\" % (MODEL_DIR, \"notes.json\")\n",
    "NOTES_INPUT_PARSED_FILE = \"%s/%s\" % (MODEL_DIR, \"notes-input-parsed.json\")\n",
    "CHECKPOINT_FILE = \"%s/%s\" % (MODEL_DIR, WEIGHTS_FILE)\n",
    "SEQUENCE_LENGTH = 120\n",
    "\n",
    "# Load Notes from disk if desired\n",
    "if NOTES_FILE:\n",
    "    with open(NOTES_FILE, 'r') as notes_file:\n",
    "        NOTES = json.loads(notes_file.read())\n",
    "if NOTES_INPUT_PARSED_FILE:\n",
    "    with open(NOTES_INPUT_PARSED_FILE, 'r') as notes_input_parsed_file:\n",
    "        NOTES_BY_FILE = json.loads(notes_input_parsed_file.read())\n",
    "\n",
    "NOTE_TO_INT = dict((note, number) for number, note in enumerate(NOTES))\n",
    "INT_TO_NOTE = dict((number, note) for number, note in enumerate(NOTES))\n",
    "N_VOCAB = len(NOTES)\n",
    "\n",
    "print(\"Num Vocab: %d\" % N_VOCAB)"
   ]
  },
  {
   "cell_type": "code",
   "execution_count": 4,
   "metadata": {},
   "outputs": [
    {
     "ename": "NameError",
     "evalue": "name 'X' is not defined",
     "output_type": "error",
     "traceback": [
      "\u001b[0;31m---------------------------------------------------------------------------\u001b[0m",
      "\u001b[0;31mNameError\u001b[0m                                 Traceback (most recent call last)",
      "\u001b[0;32m<ipython-input-4-09556f364cef>\u001b[0m in \u001b[0;36m<module>\u001b[0;34m()\u001b[0m\n\u001b[1;32m      9\u001b[0m model.add(LSTM(\n\u001b[1;32m     10\u001b[0m     \u001b[0;36m256\u001b[0m\u001b[0;34m,\u001b[0m\u001b[0;34m\u001b[0m\u001b[0m\n\u001b[0;32m---> 11\u001b[0;31m     \u001b[0minput_shape\u001b[0m\u001b[0;34m=\u001b[0m\u001b[0;34m(\u001b[0m\u001b[0mX\u001b[0m\u001b[0;34m.\u001b[0m\u001b[0mshape\u001b[0m\u001b[0;34m[\u001b[0m\u001b[0;36m1\u001b[0m\u001b[0;34m]\u001b[0m\u001b[0;34m,\u001b[0m \u001b[0mX\u001b[0m\u001b[0;34m.\u001b[0m\u001b[0mshape\u001b[0m\u001b[0;34m[\u001b[0m\u001b[0;36m2\u001b[0m\u001b[0;34m]\u001b[0m\u001b[0;34m)\u001b[0m\u001b[0;34m,\u001b[0m\u001b[0;34m\u001b[0m\u001b[0m\n\u001b[0m\u001b[1;32m     12\u001b[0m     \u001b[0mreturn_sequences\u001b[0m\u001b[0;34m=\u001b[0m\u001b[0;32mTrue\u001b[0m\u001b[0;34m\u001b[0m\u001b[0m\n\u001b[1;32m     13\u001b[0m ))\n",
      "\u001b[0;31mNameError\u001b[0m: name 'X' is not defined"
     ]
    }
   ],
   "source": [
    "from keras.models import Sequential\n",
    "from keras.layers import Dense\n",
    "from keras.layers import Dropout\n",
    "from keras.layers import LSTM\n",
    "from keras.layers import Activation\n",
    "from keras.callbacks import ModelCheckpoint\n",
    "\n",
    "model = Sequential()\n",
    "model.add(LSTM(\n",
    "    256,\n",
    "    input_shape=(X.shape[1], X.shape[2]),\n",
    "    return_sequences=True\n",
    "))\n",
    "model.add(Dropout(0.3))\n",
    "model.add(LSTM(256))\n",
    "model.add(Dropout(0.3))\n",
    "model.add(Dense(N_VOCAB))\n",
    "model.add(Activation('softmax'))\n",
    "if (CHECKPOINT_FILE):\n",
    "    print(\"Loading Checkpoint File: %s\" % CHECKPOINT_FILE)\n",
    "    model.load_weights(CHECKPOINT_FILE)\n",
    "model.compile(loss='categorical_crossentropy', optimizer='adam')"
   ]
  },
  {
   "cell_type": "code",
   "execution_count": 44,
   "metadata": {},
   "outputs": [
    {
     "name": "stdout",
     "output_type": "stream",
     "text": [
      "E4|F#4|A4|E4|A4|E4|F#4|A4|G4|E4|E4|A4|A4|A4|C#5|E4|E4|A4|A4|A4|C#5|E4|C#5|F#5|A4|E4|B4|E5|A4|A4|G4|G4|C#5|A4|F#4|D5|F#4|A4|F#5|A4|B4|F#4|C#5|A4|D5|A4|F#4|C#5|A4|B4|E4|G4|A4|A4|F#4|D5|D4|F4|A4|F#4|F#4|D5|D4|D5|A5|F#4|D4|C#5|G5|F#4|B4|G4|A4|F#5|F#4|B4|E5|E4|A4|C#5|A4|G4|E4|F#4|A4|E4|A4|E4|F#4|A4|G4|E4|E4|A4|A4|A4|C#5|E4|E4|A4\n"
     ]
    },
    {
     "data": {
      "text/plain": [
       "'output/pokemon/PkmRB-V1//LSTM512-weights-improvement-27-0.8165.hdf5.bd8bbe50-3fdd-4e88-88ba-6e730d99f785.mid'"
      ]
     },
     "execution_count": 44,
     "metadata": {},
     "output_type": "execute_result"
    }
   ],
   "source": [
    "import uuid\n",
    "from music21 import note, chord, stream\n",
    "\n",
    "MIDI_OUTPUT_DIRECTORY = \"output/pokemon/PkmRB-V1/\"\n",
    "\n",
    "SEED_INPUT_SEQUENCE = X[numpy.random.randint(0, len(X))] * N_VOCAB\n",
    "SEED_SEQUENCE = [INT_TO_NOTE[numpy.round(number[0])] for number in SEED_INPUT_SEQUENCE]\n",
    "\n",
    "print('|'.join(SEED_SEQUENCE))\n",
    "\n",
    "pattern = SEED_INPUT_SEQUENCE\n",
    "output = []\n",
    "\n",
    "for i in range(500):\n",
    "    input_sequence = numpy.reshape(pattern, (1, len(pattern), 1))\n",
    "    output_sequence = model.predict(input_sequence, verbose=0)\n",
    "    \n",
    "    number = numpy.argmax(output_sequence)\n",
    "    result = INT_TO_NOTE[number]\n",
    "    output.append(result)\n",
    "    \n",
    "    pattern = numpy.append(pattern, number)\n",
    "    pattern = pattern[1:]\n",
    "    \n",
    "offset = 0\n",
    "output_notes = []\n",
    "for note_pattern in output:\n",
    "    if ('.' in note_pattern) or note_pattern.isdigit():\n",
    "        notes_in_chord = note_pattern.split('.')\n",
    "        notes = []\n",
    "        for current_note in notes_in_chord:\n",
    "            new_note = note.Note(int(current_note))\n",
    "            new_note = storedInstrument = instrument.Piano()\n",
    "            notes.append(new_note)\n",
    "        new_chord = chord.Chord(notes)\n",
    "        new_chord.offset = offset\n",
    "        output_notes.append(new_chord)\n",
    "    else:\n",
    "        new_note = note.Note(note_pattern)\n",
    "        new_note.offset = offset\n",
    "        new_note.storedInstrument = instrument.Piano()\n",
    "        output_notes.append(new_note)\n",
    "        \n",
    "    offset += 0.5\n",
    "\n",
    "if not os.path.exists(os.path.dirname(MIDI_OUTPUT_DIRECTORY)):\n",
    "    os.makedirs(os.path.dirname(MIDI_OUTPUT_DIRECTORY))\n",
    "midi_stream = stream.Stream(output_notes)\n",
    "midi_stream.write('midi', fp=\"%s/%s.%s.%s\" % (MIDI_OUTPUT_DIRECTORY, os.path.basename(CHECKPOINT_FILE), uuid.uuid4(), \"mid\"))"
   ]
  },
  {
   "cell_type": "code",
   "execution_count": null,
   "metadata": {},
   "outputs": [],
   "source": []
  }
 ],
 "metadata": {
  "kernelspec": {
   "display_name": "Python 3",
   "language": "python",
   "name": "python3"
  }
 },
 "nbformat": 4,
 "nbformat_minor": 2
}
